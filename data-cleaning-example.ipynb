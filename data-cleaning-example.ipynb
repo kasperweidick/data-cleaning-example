{
 "cells": [
  {
   "cell_type": "markdown",
   "metadata": {},
   "source": [
    "The data used in this example project is the titanic dataset which is a very common and widely used dataset and therefore also quite uninteresting as subject to an extensive data analysis or machine learning. But the version of the dataset that I have required suits the purpose of illustrating my data cleaning capabilities very well because it consists of different parts that have to be put together and contains problematic values of different kinds which have to be handled. "
   ]
  },
  {
   "cell_type": "markdown",
   "metadata": {},
   "source": [
    "Imports and display setup:"
   ]
  },
  {
   "cell_type": "code",
   "execution_count": 209,
   "metadata": {},
   "outputs": [],
   "source": [
    "import pandas as pd"
   ]
  },
  {
   "cell_type": "code",
   "execution_count": 210,
   "metadata": {},
   "outputs": [
    {
     "data": {
      "text/html": "<style>\ndiv.prompt {display:none}\n</style>\n",
      "text/plain": "<IPython.core.display.HTML object>"
     },
     "metadata": {},
     "output_type": "display_data"
    }
   ],
   "source": [
    "%%HTML\n",
    "<style>\n",
    "div.prompt {display:none}\n",
    "</style>"
   ]
  },
  {
   "cell_type": "markdown",
   "metadata": {},
   "source": [
    "## Connecting the different parts of the dataset\n",
    "Connecting part 1 and part 2:"
   ]
  },
  {
   "cell_type": "code",
   "execution_count": 211,
   "metadata": {},
   "outputs": [
    {
     "data": {
      "text/html": "<div>\n<style scoped>\n    .dataframe tbody tr th:only-of-type {\n        vertical-align: middle;\n    }\n\n    .dataframe tbody tr th {\n        vertical-align: top;\n    }\n\n    .dataframe thead th {\n        text-align: right;\n    }\n</style>\n<table border=\"1\" class=\"dataframe\">\n  <thead>\n    <tr style=\"text-align: right;\">\n      <th></th>\n      <th>pclass</th>\n      <th>survived</th>\n      <th>sex</th>\n      <th>age</th>\n      <th>sibsp</th>\n      <th>parch</th>\n      <th>ticket</th>\n      <th>fare</th>\n      <th>cabin</th>\n      <th>embarked</th>\n      <th>boat</th>\n      <th>body</th>\n      <th>homedest</th>\n      <th>case_id</th>\n    </tr>\n  </thead>\n  <tbody>\n    <tr>\n      <th>1308</th>\n      <td>3</td>\n      <td>0.0</td>\n      <td>female</td>\n      <td>NaN</td>\n      <td>0</td>\n      <td>0</td>\n      <td>65305</td>\n      <td>8.1125</td>\n      <td>NaN</td>\n      <td>S</td>\n      <td>NaN</td>\n      <td>NaN</td>\n      <td>NaN</td>\n      <td>1308</td>\n    </tr>\n    <tr>\n      <th>1309</th>\n      <td>3</td>\n      <td>0.0</td>\n      <td>male</td>\n      <td>0.75</td>\n      <td>1</td>\n      <td>1</td>\n      <td>SOTON/O.Q. 3101315</td>\n      <td>13.775</td>\n      <td>NaN</td>\n      <td>S</td>\n      <td>NaN</td>\n      <td>NaN</td>\n      <td>NaN</td>\n      <td>1309</td>\n    </tr>\n    <tr>\n      <th>1310</th>\n      <td>3</td>\n      <td>1.0</td>\n      <td>male</td>\n      <td>25.00</td>\n      <td>0</td>\n      <td>0</td>\n      <td>345768</td>\n      <td>9.5</td>\n      <td>NaN</td>\n      <td>S</td>\n      <td>11</td>\n      <td>NaN</td>\n      <td>NaN</td>\n      <td>1310</td>\n    </tr>\n    <tr>\n      <th>1311</th>\n      <td>3</td>\n      <td>1.0</td>\n      <td>male</td>\n      <td>14.00</td>\n      <td>0</td>\n      <td>0</td>\n      <td>7538</td>\n      <td>9.225</td>\n      <td>NaN</td>\n      <td>S</td>\n      <td>13</td>\n      <td>NaN</td>\n      <td>NaN</td>\n      <td>1311</td>\n    </tr>\n    <tr>\n      <th>1312</th>\n      <td>3</td>\n      <td>0.0</td>\n      <td>male</td>\n      <td>25.00</td>\n      <td>1</td>\n      <td>0</td>\n      <td>347076</td>\n      <td>7.775</td>\n      <td>NaN</td>\n      <td>S</td>\n      <td>NaN</td>\n      <td>NaN</td>\n      <td>NaN</td>\n      <td>1312</td>\n    </tr>\n  </tbody>\n</table>\n</div>",
      "text/plain": "      pclass  survived     sex    age  sibsp  parch              ticket  \\\n1308       3       0.0  female    NaN      0      0               65305   \n1309       3       0.0    male   0.75      1      1  SOTON/O.Q. 3101315   \n1310       3       1.0    male  25.00      0      0              345768   \n1311       3       1.0    male  14.00      0      0                7538   \n1312       3       0.0    male  25.00      1      0              347076   \n\n        fare cabin embarked boat  body homedest  case_id  \n1308  8.1125   NaN        S  NaN   NaN      NaN     1308  \n1309  13.775   NaN        S  NaN   NaN      NaN     1309  \n1310     9.5   NaN        S   11   NaN      NaN     1310  \n1311   9.225   NaN        S   13   NaN      NaN     1311  \n1312   7.775   NaN        S  NaN   NaN      NaN     1312  "
     },
     "execution_count": 211,
     "metadata": {},
     "output_type": "execute_result"
    }
   ],
   "source": [
    "part_1_df = pd.read_excel(\"./data/datasæt del1.xlsx\")\n",
    "part_2_df = pd.read_csv(\"./data/datasæt del2 komma.csv\")\n",
    "\n",
    "titanic_df = pd.concat([part_1_df, part_2_df])\n",
    "titanic_df.reset_index(drop=True, inplace=True)\n",
    "titanic_df.tail()"
   ]
  },
  {
   "cell_type": "markdown",
   "metadata": {},
   "source": [
    "Adding names to the dataframe:"
   ]
  },
  {
   "cell_type": "code",
   "execution_count": 212,
   "metadata": {},
   "outputs": [
    {
     "data": {
      "text/html": "<div>\n<style scoped>\n    .dataframe tbody tr th:only-of-type {\n        vertical-align: middle;\n    }\n\n    .dataframe tbody tr th {\n        vertical-align: top;\n    }\n\n    .dataframe thead th {\n        text-align: right;\n    }\n</style>\n<table border=\"1\" class=\"dataframe\">\n  <thead>\n    <tr style=\"text-align: right;\">\n      <th></th>\n      <th>pclass</th>\n      <th>survived</th>\n      <th>sex</th>\n      <th>age</th>\n      <th>sibsp</th>\n      <th>parch</th>\n      <th>ticket</th>\n      <th>fare</th>\n      <th>cabin</th>\n      <th>embarked</th>\n      <th>boat</th>\n      <th>body</th>\n      <th>homedest</th>\n      <th>case_id</th>\n      <th>name</th>\n    </tr>\n  </thead>\n  <tbody>\n    <tr>\n      <th>0</th>\n      <td>1</td>\n      <td>0.0</td>\n      <td>male</td>\n      <td>67.0</td>\n      <td>1</td>\n      <td>0</td>\n      <td>PC 17483</td>\n      <td>221.779</td>\n      <td>C55 C57</td>\n      <td>S</td>\n      <td>NaN</td>\n      <td>96.0</td>\n      <td>New York, NY</td>\n      <td>1</td>\n      <td>Straus, Mr. Isidor</td>\n    </tr>\n    <tr>\n      <th>1</th>\n      <td>1</td>\n      <td>0.0</td>\n      <td>male</td>\n      <td>46.0</td>\n      <td>0</td>\n      <td>0</td>\n      <td>694</td>\n      <td>26</td>\n      <td>NaN</td>\n      <td>S</td>\n      <td>NaN</td>\n      <td>80.0</td>\n      <td>Bennington, VT</td>\n      <td>2</td>\n      <td>Jones, Mr. Charles Cresson</td>\n    </tr>\n    <tr>\n      <th>2</th>\n      <td>1</td>\n      <td>0.0</td>\n      <td>male</td>\n      <td>50.0</td>\n      <td>1</td>\n      <td>0</td>\n      <td>PC 17761</td>\n      <td>106.425</td>\n      <td>C86</td>\n      <td>C</td>\n      <td>NaN</td>\n      <td>62.0</td>\n      <td>Deephaven, MN / Cedar Rapids, IA</td>\n      <td>3</td>\n      <td>Douglas, Mr. Walter Donald</td>\n    </tr>\n    <tr>\n      <th>3</th>\n      <td>1</td>\n      <td>0.0</td>\n      <td>male</td>\n      <td>61.0</td>\n      <td>0</td>\n      <td>0</td>\n      <td>36963</td>\n      <td>32.3208</td>\n      <td>D50</td>\n      <td>S</td>\n      <td>NaN</td>\n      <td>46.0</td>\n      <td>Haddenfield, NJ</td>\n      <td>4</td>\n      <td>Sutton, Mr. Frederick</td>\n    </tr>\n    <tr>\n      <th>4</th>\n      <td>1</td>\n      <td>0.0</td>\n      <td>male</td>\n      <td>32.5</td>\n      <td>0</td>\n      <td>0</td>\n      <td>113503</td>\n      <td>211.5</td>\n      <td>C132</td>\n      <td>C</td>\n      <td>NaN</td>\n      <td>45.0</td>\n      <td>NaN</td>\n      <td>5</td>\n      <td>Keeping, Mr. Edwin</td>\n    </tr>\n  </tbody>\n</table>\n</div>",
      "text/plain": "   pclass  survived   sex   age  sibsp  parch    ticket     fare    cabin  \\\n0       1       0.0  male  67.0      1      0  PC 17483  221.779  C55 C57   \n1       1       0.0  male  46.0      0      0       694       26      NaN   \n2       1       0.0  male  50.0      1      0  PC 17761  106.425      C86   \n3       1       0.0  male  61.0      0      0     36963  32.3208      D50   \n4       1       0.0  male  32.5      0      0    113503    211.5     C132   \n\n  embarked boat  body                          homedest  case_id  \\\n0        S  NaN  96.0                      New York, NY        1   \n1        S  NaN  80.0                    Bennington, VT        2   \n2        C  NaN  62.0  Deephaven, MN / Cedar Rapids, IA        3   \n3        S  NaN  46.0                   Haddenfield, NJ        4   \n4        C  NaN  45.0                               NaN        5   \n\n                         name  \n0          Straus, Mr. Isidor  \n1  Jones, Mr. Charles Cresson  \n2  Douglas, Mr. Walter Donald  \n3       Sutton, Mr. Frederick  \n4          Keeping, Mr. Edwin  "
     },
     "execution_count": 212,
     "metadata": {},
     "output_type": "execute_result"
    }
   ],
   "source": [
    "names_txt = pd.read_csv('./data/navne.txt', sep=\",\", header=None)\n",
    "names_column = names_txt.loc[1:,1].reset_index(drop=True)\n",
    "\n",
    "titanic_df['name'] = names_column\n",
    "titanic_df.head()"
   ]
  },
  {
   "cell_type": "markdown",
   "metadata": {},
   "source": [
    "Setting case_id as the index of the dataframe:"
   ]
  },
  {
   "cell_type": "code",
   "execution_count": 213,
   "metadata": {},
   "outputs": [],
   "source": [
    "titanic_df.set_index('case_id', inplace=True)"
   ]
  },
  {
   "cell_type": "markdown",
   "metadata": {},
   "source": [
    "## Data cleaning\n",
    "Removing duplicates in the dataset:"
   ]
  },
  {
   "cell_type": "code",
   "execution_count": 214,
   "metadata": {},
   "outputs": [
    {
     "name": "stdout",
     "output_type": "stream",
     "text": "Locating duplicates:\n"
    },
    {
     "data": {
      "text/html": "<div>\n<style scoped>\n    .dataframe tbody tr th:only-of-type {\n        vertical-align: middle;\n    }\n\n    .dataframe tbody tr th {\n        vertical-align: top;\n    }\n\n    .dataframe thead th {\n        text-align: right;\n    }\n</style>\n<table border=\"1\" class=\"dataframe\">\n  <thead>\n    <tr style=\"text-align: right;\">\n      <th></th>\n      <th>pclass</th>\n      <th>survived</th>\n      <th>sex</th>\n      <th>age</th>\n      <th>sibsp</th>\n      <th>parch</th>\n      <th>ticket</th>\n      <th>fare</th>\n      <th>cabin</th>\n      <th>embarked</th>\n      <th>boat</th>\n      <th>body</th>\n      <th>homedest</th>\n      <th>name</th>\n    </tr>\n    <tr>\n      <th>case_id</th>\n      <th></th>\n      <th></th>\n      <th></th>\n      <th></th>\n      <th></th>\n      <th></th>\n      <th></th>\n      <th></th>\n      <th></th>\n      <th></th>\n      <th></th>\n      <th></th>\n      <th></th>\n      <th></th>\n    </tr>\n  </thead>\n  <tbody>\n    <tr>\n      <th>550</th>\n      <td>2</td>\n      <td>0.0</td>\n      <td>male</td>\n      <td>NaN</td>\n      <td>0</td>\n      <td>0</td>\n      <td>239853</td>\n      <td>0</td>\n      <td>NaN</td>\n      <td>S</td>\n      <td>NaN</td>\n      <td>NaN</td>\n      <td>Belfast</td>\n      <td>Cunningham, Mr. Alfred Fleming</td>\n    </tr>\n  </tbody>\n</table>\n</div>",
      "text/plain": "         pclass  survived   sex  age  sibsp  parch  ticket fare cabin  \\\ncase_id                                                                 \n550           2       0.0  male  NaN      0      0  239853    0   NaN   \n\n        embarked boat  body homedest                            name  \ncase_id                                                               \n550            S  NaN   NaN  Belfast  Cunningham, Mr. Alfred Fleming  "
     },
     "metadata": {},
     "output_type": "display_data"
    },
    {
     "name": "stdout",
     "output_type": "stream",
     "text": "\n Duplicates before:\n"
    },
    {
     "data": {
      "text/html": "<div>\n<style scoped>\n    .dataframe tbody tr th:only-of-type {\n        vertical-align: middle;\n    }\n\n    .dataframe tbody tr th {\n        vertical-align: top;\n    }\n\n    .dataframe thead th {\n        text-align: right;\n    }\n</style>\n<table border=\"1\" class=\"dataframe\">\n  <thead>\n    <tr style=\"text-align: right;\">\n      <th></th>\n      <th>pclass</th>\n      <th>survived</th>\n      <th>sex</th>\n      <th>age</th>\n      <th>sibsp</th>\n      <th>parch</th>\n      <th>ticket</th>\n      <th>fare</th>\n      <th>cabin</th>\n      <th>embarked</th>\n      <th>boat</th>\n      <th>body</th>\n      <th>homedest</th>\n      <th>name</th>\n    </tr>\n    <tr>\n      <th>case_id</th>\n      <th></th>\n      <th></th>\n      <th></th>\n      <th></th>\n      <th></th>\n      <th></th>\n      <th></th>\n      <th></th>\n      <th></th>\n      <th></th>\n      <th></th>\n      <th></th>\n      <th></th>\n      <th></th>\n    </tr>\n  </thead>\n  <tbody>\n    <tr>\n      <th>550</th>\n      <td>2</td>\n      <td>0.0</td>\n      <td>male</td>\n      <td>NaN</td>\n      <td>0</td>\n      <td>0</td>\n      <td>239853</td>\n      <td>0</td>\n      <td>NaN</td>\n      <td>S</td>\n      <td>NaN</td>\n      <td>NaN</td>\n      <td>Belfast</td>\n      <td>Cunningham, Mr. Alfred Fleming</td>\n    </tr>\n    <tr>\n      <th>550</th>\n      <td>2</td>\n      <td>0.0</td>\n      <td>male</td>\n      <td>NaN</td>\n      <td>0</td>\n      <td>0</td>\n      <td>239853</td>\n      <td>0</td>\n      <td>NaN</td>\n      <td>S</td>\n      <td>NaN</td>\n      <td>NaN</td>\n      <td>Belfast</td>\n      <td>Cunningham, Mr. Alfred Fleming</td>\n    </tr>\n    <tr>\n      <th>551</th>\n      <td>2</td>\n      <td>0.0</td>\n      <td>male</td>\n      <td>35.0</td>\n      <td>0</td>\n      <td>0</td>\n      <td>233734</td>\n      <td>12.35</td>\n      <td>NaN</td>\n      <td>Q</td>\n      <td>NaN</td>\n      <td>NaN</td>\n      <td>NaN</td>\n      <td>Keane, Mr. Daniel</td>\n    </tr>\n  </tbody>\n</table>\n</div>",
      "text/plain": "         pclass  survived   sex   age  sibsp  parch  ticket   fare cabin  \\\ncase_id                                                                    \n550           2       0.0  male   NaN      0      0  239853      0   NaN   \n550           2       0.0  male   NaN      0      0  239853      0   NaN   \n551           2       0.0  male  35.0      0      0  233734  12.35   NaN   \n\n        embarked boat  body homedest                            name  \ncase_id                                                               \n550            S  NaN   NaN  Belfast  Cunningham, Mr. Alfred Fleming  \n550            S  NaN   NaN  Belfast  Cunningham, Mr. Alfred Fleming  \n551            Q  NaN   NaN      NaN               Keane, Mr. Daniel  "
     },
     "metadata": {},
     "output_type": "display_data"
    },
    {
     "name": "stdout",
     "output_type": "stream",
     "text": "\n Duplicates after:\n"
    },
    {
     "data": {
      "text/html": "<div>\n<style scoped>\n    .dataframe tbody tr th:only-of-type {\n        vertical-align: middle;\n    }\n\n    .dataframe tbody tr th {\n        vertical-align: top;\n    }\n\n    .dataframe thead th {\n        text-align: right;\n    }\n</style>\n<table border=\"1\" class=\"dataframe\">\n  <thead>\n    <tr style=\"text-align: right;\">\n      <th></th>\n      <th>pclass</th>\n      <th>survived</th>\n      <th>sex</th>\n      <th>age</th>\n      <th>sibsp</th>\n      <th>parch</th>\n      <th>ticket</th>\n      <th>fare</th>\n      <th>cabin</th>\n      <th>embarked</th>\n      <th>boat</th>\n      <th>body</th>\n      <th>homedest</th>\n      <th>name</th>\n    </tr>\n    <tr>\n      <th>case_id</th>\n      <th></th>\n      <th></th>\n      <th></th>\n      <th></th>\n      <th></th>\n      <th></th>\n      <th></th>\n      <th></th>\n      <th></th>\n      <th></th>\n      <th></th>\n      <th></th>\n      <th></th>\n      <th></th>\n    </tr>\n  </thead>\n  <tbody>\n    <tr>\n      <th>550</th>\n      <td>2</td>\n      <td>0.0</td>\n      <td>male</td>\n      <td>NaN</td>\n      <td>0</td>\n      <td>0</td>\n      <td>239853</td>\n      <td>0</td>\n      <td>NaN</td>\n      <td>S</td>\n      <td>NaN</td>\n      <td>NaN</td>\n      <td>Belfast</td>\n      <td>Cunningham, Mr. Alfred Fleming</td>\n    </tr>\n    <tr>\n      <th>551</th>\n      <td>2</td>\n      <td>0.0</td>\n      <td>male</td>\n      <td>35.0</td>\n      <td>0</td>\n      <td>0</td>\n      <td>233734</td>\n      <td>12.35</td>\n      <td>NaN</td>\n      <td>Q</td>\n      <td>NaN</td>\n      <td>NaN</td>\n      <td>NaN</td>\n      <td>Keane, Mr. Daniel</td>\n    </tr>\n  </tbody>\n</table>\n</div>",
      "text/plain": "         pclass  survived   sex   age  sibsp  parch  ticket   fare cabin  \\\ncase_id                                                                    \n550           2       0.0  male   NaN      0      0  239853      0   NaN   \n551           2       0.0  male  35.0      0      0  233734  12.35   NaN   \n\n        embarked boat  body homedest                            name  \ncase_id                                                               \n550            S  NaN   NaN  Belfast  Cunningham, Mr. Alfred Fleming  \n551            Q  NaN   NaN      NaN               Keane, Mr. Daniel  "
     },
     "metadata": {},
     "output_type": "display_data"
    }
   ],
   "source": [
    "print('Locating duplicates:')\n",
    "display(titanic_df[titanic_df.duplicated()])\n",
    "print('\\n Duplicates before:')\n",
    "display(titanic_df.loc[550:551])\n",
    "titanic_df = titanic_df.drop_duplicates()\n",
    "# Showing the duplicate\n",
    "print('\\n Duplicates after:')\n",
    "display(titanic_df.loc[550:551])"
   ]
  },
  {
   "cell_type": "markdown",
   "metadata": {},
   "source": [
    "Removing row which contains too high fare value: "
   ]
  },
  {
   "cell_type": "code",
   "execution_count": 215,
   "metadata": {},
   "outputs": [
    {
     "name": "stdout",
     "output_type": "stream",
     "text": "Max fare value before:\n"
    },
    {
     "data": {
      "text/html": "<div>\n<style scoped>\n    .dataframe tbody tr th:only-of-type {\n        vertical-align: middle;\n    }\n\n    .dataframe tbody tr th {\n        vertical-align: top;\n    }\n\n    .dataframe thead th {\n        text-align: right;\n    }\n</style>\n<table border=\"1\" class=\"dataframe\">\n  <thead>\n    <tr style=\"text-align: right;\">\n      <th></th>\n      <th>pclass</th>\n      <th>survived</th>\n      <th>sex</th>\n      <th>age</th>\n      <th>sibsp</th>\n      <th>parch</th>\n      <th>ticket</th>\n      <th>fare</th>\n      <th>cabin</th>\n      <th>embarked</th>\n      <th>boat</th>\n      <th>body</th>\n      <th>homedest</th>\n      <th>name</th>\n    </tr>\n    <tr>\n      <th>case_id</th>\n      <th></th>\n      <th></th>\n      <th></th>\n      <th></th>\n      <th></th>\n      <th></th>\n      <th></th>\n      <th></th>\n      <th></th>\n      <th></th>\n      <th></th>\n      <th></th>\n      <th></th>\n      <th></th>\n    </tr>\n  </thead>\n  <tbody>\n    <tr>\n      <th>60</th>\n      <td>1</td>\n      <td>1.0</td>\n      <td>female</td>\n      <td>17.0</td>\n      <td>0</td>\n      <td>1</td>\n      <td>12345</td>\n      <td>25000.0</td>\n      <td>NaN</td>\n      <td>S</td>\n      <td>NaN</td>\n      <td>NaN</td>\n      <td>Philadelphia, PA</td>\n      <td>Bukater, Miss. Rose Dewitt</td>\n    </tr>\n  </tbody>\n</table>\n</div>",
      "text/plain": "         pclass  survived     sex   age  sibsp  parch ticket     fare cabin  \\\ncase_id                                                                       \n60            1       1.0  female  17.0      0      1  12345  25000.0   NaN   \n\n        embarked boat  body          homedest                        name  \ncase_id                                                                    \n60             S  NaN   NaN  Philadelphia, PA  Bukater, Miss. Rose Dewitt  "
     },
     "metadata": {},
     "output_type": "display_data"
    },
    {
     "name": "stdout",
     "output_type": "stream",
     "text": "\n Max fare value after:\n"
    },
    {
     "data": {
      "text/html": "<div>\n<style scoped>\n    .dataframe tbody tr th:only-of-type {\n        vertical-align: middle;\n    }\n\n    .dataframe tbody tr th {\n        vertical-align: top;\n    }\n\n    .dataframe thead th {\n        text-align: right;\n    }\n</style>\n<table border=\"1\" class=\"dataframe\">\n  <thead>\n    <tr style=\"text-align: right;\">\n      <th></th>\n      <th>pclass</th>\n      <th>survived</th>\n      <th>sex</th>\n      <th>age</th>\n      <th>sibsp</th>\n      <th>parch</th>\n      <th>ticket</th>\n      <th>fare</th>\n      <th>cabin</th>\n      <th>embarked</th>\n      <th>boat</th>\n      <th>body</th>\n      <th>homedest</th>\n      <th>name</th>\n    </tr>\n    <tr>\n      <th>case_id</th>\n      <th></th>\n      <th></th>\n      <th></th>\n      <th></th>\n      <th></th>\n      <th></th>\n      <th></th>\n      <th></th>\n      <th></th>\n      <th></th>\n      <th></th>\n      <th></th>\n      <th></th>\n      <th></th>\n    </tr>\n  </thead>\n  <tbody>\n    <tr>\n      <th>150</th>\n      <td>1</td>\n      <td>1.0</td>\n      <td>male</td>\n      <td>36.0</td>\n      <td>0</td>\n      <td>1</td>\n      <td>PC 17755</td>\n      <td>512.3292</td>\n      <td>B51 B53 B55</td>\n      <td>C</td>\n      <td>3</td>\n      <td>NaN</td>\n      <td>Austria-Hungary / Germantown, Philadelphia, PA</td>\n      <td>Cardeza, Mr. Thomas Drake Martinez</td>\n    </tr>\n    <tr>\n      <th>199</th>\n      <td>1</td>\n      <td>1.0</td>\n      <td>male</td>\n      <td>35.0</td>\n      <td>0</td>\n      <td>0</td>\n      <td>PC 17755</td>\n      <td>512.3292</td>\n      <td>B101</td>\n      <td>C</td>\n      <td>3</td>\n      <td>NaN</td>\n      <td>NaN</td>\n      <td>Lesurer, Mr. Gustave J</td>\n    </tr>\n    <tr>\n      <th>267</th>\n      <td>1</td>\n      <td>1.0</td>\n      <td>female</td>\n      <td>35.0</td>\n      <td>0</td>\n      <td>0</td>\n      <td>PC 17755</td>\n      <td>512.3292</td>\n      <td>NaN</td>\n      <td>C</td>\n      <td>3</td>\n      <td>NaN</td>\n      <td>NaN</td>\n      <td>Ward, Miss. Anna</td>\n    </tr>\n    <tr>\n      <th>296</th>\n      <td>1</td>\n      <td>1.0</td>\n      <td>female</td>\n      <td>58.0</td>\n      <td>0</td>\n      <td>1</td>\n      <td>PC 17755</td>\n      <td>512.3292</td>\n      <td>B51 B53 B55</td>\n      <td>C</td>\n      <td>3</td>\n      <td>NaN</td>\n      <td>Germantown, Philadelphia, PA</td>\n      <td>Cardeza, Mrs. James Warburton Martinez (Charlo...</td>\n    </tr>\n  </tbody>\n</table>\n</div>",
      "text/plain": "         pclass  survived     sex   age  sibsp  parch    ticket      fare  \\\ncase_id                                                                     \n150           1       1.0    male  36.0      0      1  PC 17755  512.3292   \n199           1       1.0    male  35.0      0      0  PC 17755  512.3292   \n267           1       1.0  female  35.0      0      0  PC 17755  512.3292   \n296           1       1.0  female  58.0      0      1  PC 17755  512.3292   \n\n               cabin embarked boat  body  \\\ncase_id                                    \n150      B51 B53 B55        C    3   NaN   \n199             B101        C    3   NaN   \n267              NaN        C    3   NaN   \n296      B51 B53 B55        C    3   NaN   \n\n                                               homedest  \\\ncase_id                                                   \n150      Austria-Hungary / Germantown, Philadelphia, PA   \n199                                                 NaN   \n267                                                 NaN   \n296                        Germantown, Philadelphia, PA   \n\n                                                      name  \ncase_id                                                     \n150                     Cardeza, Mr. Thomas Drake Martinez  \n199                                 Lesurer, Mr. Gustave J  \n267                                       Ward, Miss. Anna  \n296      Cardeza, Mrs. James Warburton Martinez (Charlo...  "
     },
     "metadata": {},
     "output_type": "display_data"
    }
   ],
   "source": [
    "# Change the type in the fare column to float \n",
    "titanic_df['fare'].replace('.', 0.0, inplace=True)\n",
    "numeric_fare = pd.to_numeric(titanic_df['fare'])\n",
    "titanic_df.loc[:, 'fare'] = numeric_fare\n",
    "\n",
    "# Finding the row with the maximum fare value and removing it from the dataframe\n",
    "print('Max fare value before:')\n",
    "display(titanic_df.loc[titanic_df['fare'] == titanic_df['fare'].max()])\n",
    "titanic_df.drop(60, axis=0, inplace=True)\n",
    "print('\\n Max fare value after:')\n",
    "display(titanic_df.loc[titanic_df['fare'] == titanic_df['fare'].max()])"
   ]
  },
  {
   "cell_type": "markdown",
   "metadata": {},
   "source": [
    "Removing datasource where the death is hard to determine: "
   ]
  },
  {
   "cell_type": "code",
   "execution_count": 216,
   "metadata": {},
   "outputs": [
    {
     "name": "stdout",
     "output_type": "stream",
     "text": "Values different than 0 or 1 in survived column before:\n"
    },
    {
     "data": {
      "text/html": "<div>\n<style scoped>\n    .dataframe tbody tr th:only-of-type {\n        vertical-align: middle;\n    }\n\n    .dataframe tbody tr th {\n        vertical-align: top;\n    }\n\n    .dataframe thead th {\n        text-align: right;\n    }\n</style>\n<table border=\"1\" class=\"dataframe\">\n  <thead>\n    <tr style=\"text-align: right;\">\n      <th></th>\n      <th>pclass</th>\n      <th>survived</th>\n      <th>sex</th>\n      <th>age</th>\n      <th>sibsp</th>\n      <th>parch</th>\n      <th>ticket</th>\n      <th>fare</th>\n      <th>cabin</th>\n      <th>embarked</th>\n      <th>boat</th>\n      <th>body</th>\n      <th>homedest</th>\n      <th>name</th>\n    </tr>\n    <tr>\n      <th>case_id</th>\n      <th></th>\n      <th></th>\n      <th></th>\n      <th></th>\n      <th></th>\n      <th></th>\n      <th></th>\n      <th></th>\n      <th></th>\n      <th></th>\n      <th></th>\n      <th></th>\n      <th></th>\n      <th></th>\n    </tr>\n  </thead>\n  <tbody>\n    <tr>\n      <th>325</th>\n      <td>1</td>\n      <td>NaN</td>\n      <td>male</td>\n      <td>68.0</td>\n      <td>0</td>\n      <td>0</td>\n      <td>36010</td>\n      <td>10.0</td>\n      <td>NaN</td>\n      <td>S</td>\n      <td>NaN</td>\n      <td>NaN</td>\n      <td>New York City, NY</td>\n      <td>Wonder, Mr. Stevie</td>\n    </tr>\n  </tbody>\n</table>\n</div>",
      "text/plain": "         pclass  survived   sex   age  sibsp  parch ticket  fare cabin  \\\ncase_id                                                                  \n325           1       NaN  male  68.0      0      0  36010  10.0   NaN   \n\n        embarked boat  body           homedest                name  \ncase_id                                                             \n325            S  NaN   NaN  New York City, NY  Wonder, Mr. Stevie  "
     },
     "metadata": {},
     "output_type": "display_data"
    },
    {
     "name": "stdout",
     "output_type": "stream",
     "text": "\n Values different than 0 or 1 in survived column after:\n"
    },
    {
     "data": {
      "text/html": "<div>\n<style scoped>\n    .dataframe tbody tr th:only-of-type {\n        vertical-align: middle;\n    }\n\n    .dataframe tbody tr th {\n        vertical-align: top;\n    }\n\n    .dataframe thead th {\n        text-align: right;\n    }\n</style>\n<table border=\"1\" class=\"dataframe\">\n  <thead>\n    <tr style=\"text-align: right;\">\n      <th></th>\n      <th>pclass</th>\n      <th>survived</th>\n      <th>sex</th>\n      <th>age</th>\n      <th>sibsp</th>\n      <th>parch</th>\n      <th>ticket</th>\n      <th>fare</th>\n      <th>cabin</th>\n      <th>embarked</th>\n      <th>boat</th>\n      <th>body</th>\n      <th>homedest</th>\n      <th>name</th>\n    </tr>\n    <tr>\n      <th>case_id</th>\n      <th></th>\n      <th></th>\n      <th></th>\n      <th></th>\n      <th></th>\n      <th></th>\n      <th></th>\n      <th></th>\n      <th></th>\n      <th></th>\n      <th></th>\n      <th></th>\n      <th></th>\n      <th></th>\n    </tr>\n  </thead>\n  <tbody>\n  </tbody>\n</table>\n</div>",
      "text/plain": "Empty DataFrame\nColumns: [pclass, survived, sex, age, sibsp, parch, ticket, fare, cabin, embarked, boat, body, homedest, name]\nIndex: []"
     },
     "metadata": {},
     "output_type": "display_data"
    }
   ],
   "source": [
    "# Locate values which are different than 0 and 1 in the survived column\n",
    "print('Values different than 0 or 1 in survived column before:')\n",
    "display(titanic_df.loc[~titanic_df['survived'].isin([1,0])])\n",
    "titanic_df.drop(325, axis=0, inplace=True)\n",
    "print('\\n Values different than 0 or 1 in survived column after:')\n",
    "display(titanic_df.loc[~titanic_df['survived'].isin([1,0])])\n"
   ]
  },
  {
   "cell_type": "markdown",
   "metadata": {},
   "source": [
    "Removing data scource where age is below 0:"
   ]
  },
  {
   "cell_type": "code",
   "execution_count": 217,
   "metadata": {},
   "outputs": [
    {
     "name": "stdout",
     "output_type": "stream",
     "text": "Value in age column below 0 before:\n"
    },
    {
     "data": {
      "text/html": "<div>\n<style scoped>\n    .dataframe tbody tr th:only-of-type {\n        vertical-align: middle;\n    }\n\n    .dataframe tbody tr th {\n        vertical-align: top;\n    }\n\n    .dataframe thead th {\n        text-align: right;\n    }\n</style>\n<table border=\"1\" class=\"dataframe\">\n  <thead>\n    <tr style=\"text-align: right;\">\n      <th></th>\n      <th>pclass</th>\n      <th>survived</th>\n      <th>sex</th>\n      <th>age</th>\n      <th>sibsp</th>\n      <th>parch</th>\n      <th>ticket</th>\n      <th>fare</th>\n      <th>cabin</th>\n      <th>embarked</th>\n      <th>boat</th>\n      <th>body</th>\n      <th>homedest</th>\n      <th>name</th>\n    </tr>\n    <tr>\n      <th>case_id</th>\n      <th></th>\n      <th></th>\n      <th></th>\n      <th></th>\n      <th></th>\n      <th></th>\n      <th></th>\n      <th></th>\n      <th></th>\n      <th></th>\n      <th></th>\n      <th></th>\n      <th></th>\n      <th></th>\n    </tr>\n  </thead>\n  <tbody>\n    <tr>\n      <th>172</th>\n      <td>1</td>\n      <td>1.0</td>\n      <td>male</td>\n      <td>-62.0</td>\n      <td>0</td>\n      <td>0</td>\n      <td>24161</td>\n      <td>10.0</td>\n      <td>Shutter Island</td>\n      <td>S</td>\n      <td>NaN</td>\n      <td>NaN</td>\n      <td>Los Angeles, CA</td>\n      <td>DiCaprio, Mr. Leonardo</td>\n    </tr>\n  </tbody>\n</table>\n</div>",
      "text/plain": "         pclass  survived   sex   age  sibsp  parch ticket  fare  \\\ncase_id                                                            \n172           1       1.0  male -62.0      0      0  24161  10.0   \n\n                  cabin embarked boat  body         homedest  \\\ncase_id                                                        \n172      Shutter Island        S  NaN   NaN  Los Angeles, CA   \n\n                           name  \ncase_id                          \n172      DiCaprio, Mr. Leonardo  "
     },
     "metadata": {},
     "output_type": "display_data"
    },
    {
     "name": "stdout",
     "output_type": "stream",
     "text": "\n Value in age column below 0 after:\n"
    },
    {
     "data": {
      "text/html": "<div>\n<style scoped>\n    .dataframe tbody tr th:only-of-type {\n        vertical-align: middle;\n    }\n\n    .dataframe tbody tr th {\n        vertical-align: top;\n    }\n\n    .dataframe thead th {\n        text-align: right;\n    }\n</style>\n<table border=\"1\" class=\"dataframe\">\n  <thead>\n    <tr style=\"text-align: right;\">\n      <th></th>\n      <th>pclass</th>\n      <th>survived</th>\n      <th>sex</th>\n      <th>age</th>\n      <th>sibsp</th>\n      <th>parch</th>\n      <th>ticket</th>\n      <th>fare</th>\n      <th>cabin</th>\n      <th>embarked</th>\n      <th>boat</th>\n      <th>body</th>\n      <th>homedest</th>\n      <th>name</th>\n    </tr>\n    <tr>\n      <th>case_id</th>\n      <th></th>\n      <th></th>\n      <th></th>\n      <th></th>\n      <th></th>\n      <th></th>\n      <th></th>\n      <th></th>\n      <th></th>\n      <th></th>\n      <th></th>\n      <th></th>\n      <th></th>\n      <th></th>\n    </tr>\n  </thead>\n  <tbody>\n  </tbody>\n</table>\n</div>",
      "text/plain": "Empty DataFrame\nColumns: [pclass, survived, sex, age, sibsp, parch, ticket, fare, cabin, embarked, boat, body, homedest, name]\nIndex: []"
     },
     "metadata": {},
     "output_type": "display_data"
    }
   ],
   "source": [
    "print('Value in age column below 0 before:')\n",
    "display(titanic_df.loc[titanic_df['age'] < 0])\n",
    "titanic_df.drop(172, axis=0, inplace=True)\n",
    "print('\\n Value in age column below 0 after:')\n",
    "display(titanic_df.loc[titanic_df['age'] < 0])"
   ]
  },
  {
   "cell_type": "markdown",
   "metadata": {},
   "source": [
    "## Further cleaning of data\n",
    "Overview of the cleaned dataframe as it is now:"
   ]
  },
  {
   "cell_type": "code",
   "execution_count": 218,
   "metadata": {},
   "outputs": [
    {
     "name": "stdout",
     "output_type": "stream",
     "text": "Summary info about the dataframe:\n\n<class 'pandas.core.frame.DataFrame'>\nInt64Index: 1309 entries, 1 to 1312\nData columns (total 14 columns):\npclass      1309 non-null int64\nsurvived    1309 non-null float64\nsex         1309 non-null object\nage         1046 non-null float64\nsibsp       1309 non-null int64\nparch       1309 non-null int64\nticket      1309 non-null object\nfare        1309 non-null float64\ncabin       295 non-null object\nembarked    1307 non-null object\nboat        486 non-null object\nbody        121 non-null float64\nhomedest    745 non-null object\nname        1309 non-null object\ndtypes: float64(4), int64(3), object(7)\nmemory usage: 153.4+ KB\n"
    },
    {
     "data": {
      "text/plain": "None"
     },
     "metadata": {},
     "output_type": "display_data"
    },
    {
     "name": "stdout",
     "output_type": "stream",
     "text": "\n Data types:\n"
    },
    {
     "data": {
      "text/plain": "pclass        int64\nsurvived    float64\nsex          object\nage         float64\nsibsp         int64\nparch         int64\nticket       object\nfare        float64\ncabin        object\nembarked     object\nboat         object\nbody        float64\nhomedest     object\nname         object\ndtype: object"
     },
     "metadata": {},
     "output_type": "display_data"
    }
   ],
   "source": [
    "print('Summary info about the dataframe:\\n')\n",
    "display(titanic_df.info())\n",
    "print('\\n Data types:')\n",
    "display(titanic_df.dtypes)"
   ]
  },
  {
   "cell_type": "markdown",
   "metadata": {},
   "source": [
    "Turning sibsp (sibling/spouse) and parch (parent/child) columns into one column called family and removing the individual columns:"
   ]
  },
  {
   "cell_type": "code",
   "execution_count": 219,
   "metadata": {},
   "outputs": [
    {
     "data": {
      "text/html": "<div>\n<style scoped>\n    .dataframe tbody tr th:only-of-type {\n        vertical-align: middle;\n    }\n\n    .dataframe tbody tr th {\n        vertical-align: top;\n    }\n\n    .dataframe thead th {\n        text-align: right;\n    }\n</style>\n<table border=\"1\" class=\"dataframe\">\n  <thead>\n    <tr style=\"text-align: right;\">\n      <th></th>\n      <th>pclass</th>\n      <th>survived</th>\n      <th>sex</th>\n      <th>age</th>\n      <th>ticket</th>\n      <th>fare</th>\n      <th>cabin</th>\n      <th>embarked</th>\n      <th>boat</th>\n      <th>body</th>\n      <th>homedest</th>\n      <th>name</th>\n      <th>family_size</th>\n    </tr>\n    <tr>\n      <th>case_id</th>\n      <th></th>\n      <th></th>\n      <th></th>\n      <th></th>\n      <th></th>\n      <th></th>\n      <th></th>\n      <th></th>\n      <th></th>\n      <th></th>\n      <th></th>\n      <th></th>\n      <th></th>\n    </tr>\n  </thead>\n  <tbody>\n    <tr>\n      <th>1</th>\n      <td>1</td>\n      <td>0.0</td>\n      <td>male</td>\n      <td>67.0</td>\n      <td>PC 17483</td>\n      <td>221.7792</td>\n      <td>C55 C57</td>\n      <td>S</td>\n      <td>NaN</td>\n      <td>96.0</td>\n      <td>New York, NY</td>\n      <td>Straus, Mr. Isidor</td>\n      <td>2</td>\n    </tr>\n    <tr>\n      <th>2</th>\n      <td>1</td>\n      <td>0.0</td>\n      <td>male</td>\n      <td>46.0</td>\n      <td>694</td>\n      <td>26.0000</td>\n      <td>NaN</td>\n      <td>S</td>\n      <td>NaN</td>\n      <td>80.0</td>\n      <td>Bennington, VT</td>\n      <td>Jones, Mr. Charles Cresson</td>\n      <td>1</td>\n    </tr>\n    <tr>\n      <th>3</th>\n      <td>1</td>\n      <td>0.0</td>\n      <td>male</td>\n      <td>50.0</td>\n      <td>PC 17761</td>\n      <td>106.4250</td>\n      <td>C86</td>\n      <td>C</td>\n      <td>NaN</td>\n      <td>62.0</td>\n      <td>Deephaven, MN / Cedar Rapids, IA</td>\n      <td>Douglas, Mr. Walter Donald</td>\n      <td>2</td>\n    </tr>\n    <tr>\n      <th>4</th>\n      <td>1</td>\n      <td>0.0</td>\n      <td>male</td>\n      <td>61.0</td>\n      <td>36963</td>\n      <td>32.3208</td>\n      <td>D50</td>\n      <td>S</td>\n      <td>NaN</td>\n      <td>46.0</td>\n      <td>Haddenfield, NJ</td>\n      <td>Sutton, Mr. Frederick</td>\n      <td>1</td>\n    </tr>\n    <tr>\n      <th>5</th>\n      <td>1</td>\n      <td>0.0</td>\n      <td>male</td>\n      <td>32.5</td>\n      <td>113503</td>\n      <td>211.5000</td>\n      <td>C132</td>\n      <td>C</td>\n      <td>NaN</td>\n      <td>45.0</td>\n      <td>NaN</td>\n      <td>Keeping, Mr. Edwin</td>\n      <td>1</td>\n    </tr>\n  </tbody>\n</table>\n</div>",
      "text/plain": "         pclass  survived   sex   age    ticket      fare    cabin embarked  \\\ncase_id                                                                       \n1             1       0.0  male  67.0  PC 17483  221.7792  C55 C57        S   \n2             1       0.0  male  46.0       694   26.0000      NaN        S   \n3             1       0.0  male  50.0  PC 17761  106.4250      C86        C   \n4             1       0.0  male  61.0     36963   32.3208      D50        S   \n5             1       0.0  male  32.5    113503  211.5000     C132        C   \n\n        boat  body                          homedest  \\\ncase_id                                                \n1        NaN  96.0                      New York, NY   \n2        NaN  80.0                    Bennington, VT   \n3        NaN  62.0  Deephaven, MN / Cedar Rapids, IA   \n4        NaN  46.0                   Haddenfield, NJ   \n5        NaN  45.0                               NaN   \n\n                               name  family_size  \ncase_id                                           \n1                Straus, Mr. Isidor            2  \n2        Jones, Mr. Charles Cresson            1  \n3        Douglas, Mr. Walter Donald            2  \n4             Sutton, Mr. Frederick            1  \n5                Keeping, Mr. Edwin            1  "
     },
     "metadata": {},
     "output_type": "display_data"
    }
   ],
   "source": [
    "titanic_df['family_size'] = titanic_df['sibsp'] + titanic_df['parch'] + 1\n",
    "titanic_df = titanic_df.drop('sibsp', axis=1)\n",
    "titanic_df = titanic_df.drop('parch', axis=1)\n",
    "display(titanic_df.head())"
   ]
  },
  {
   "cell_type": "markdown",
   "metadata": {},
   "source": [
    "Locating NaN values in the dataset:"
   ]
  },
  {
   "cell_type": "code",
   "execution_count": 220,
   "metadata": {},
   "outputs": [
    {
     "data": {
      "text/plain": "pclass            0\nsurvived          0\nsex               0\nage             263\nticket            0\nfare              0\ncabin          1014\nembarked          2\nboat            823\nbody           1188\nhomedest        564\nname              0\nfamily_size       0\ndtype: int64"
     },
     "execution_count": 220,
     "metadata": {},
     "output_type": "execute_result"
    }
   ],
   "source": [
    "titanic_df.isnull().sum()"
   ]
  },
  {
   "cell_type": "markdown",
   "metadata": {},
   "source": [
    "Removing the cabin, boat, and body columns because it contains way too many NaN values:"
   ]
  },
  {
   "cell_type": "code",
   "execution_count": 221,
   "metadata": {},
   "outputs": [],
   "source": [
    "titanic_df.drop(columns='cabin', inplace=True)\n",
    "titanic_df.drop(columns='boat', inplace=True)\n",
    "titanic_df.drop(columns='body', inplace=True)\n"
   ]
  },
  {
   "cell_type": "markdown",
   "metadata": {},
   "source": [
    "Replacing NaN values in age col with median values:"
   ]
  },
  {
   "cell_type": "code",
   "execution_count": 222,
   "metadata": {},
   "outputs": [],
   "source": [
    "titanic_df['age'] = titanic_df['age'].fillna(titanic_df['age'].median())"
   ]
  },
  {
   "cell_type": "markdown",
   "metadata": {},
   "source": [
    "Replacing NaN values in embarked col with embarked value with highest frequency:"
   ]
  },
  {
   "cell_type": "code",
   "execution_count": 223,
   "metadata": {},
   "outputs": [
    {
     "data": {
      "text/plain": "0    S\ndtype: object"
     },
     "metadata": {},
     "output_type": "display_data"
    }
   ],
   "source": [
    "display(titanic_df['embarked'].mode())\n",
    "titanic_df['embarked'] = titanic_df['embarked'].fillna('S')"
   ]
  },
  {
   "cell_type": "markdown",
   "metadata": {},
   "source": [
    "Creating adult col to indicate if the person is an adult or a child:"
   ]
  },
  {
   "cell_type": "code",
   "execution_count": 224,
   "metadata": {},
   "outputs": [],
   "source": [
    "titanic_df['adult'] = 0\n",
    "titanic_df['adult'][titanic_df['age'] >= 18] = 1"
   ]
  },
  {
   "cell_type": "markdown",
   "metadata": {},
   "source": [
    "Renaming pclass column to something that is more interpretable:"
   ]
  },
  {
   "cell_type": "code",
   "execution_count": 225,
   "metadata": {},
   "outputs": [],
   "source": [
    "titanic_df.rename(columns={'pclass': 'price_class'}, inplace=True)"
   ]
  },
  {
   "cell_type": "markdown",
   "metadata": {},
   "source": [
    "The cleaned dataset now looks like this:"
   ]
  },
  {
   "cell_type": "code",
   "execution_count": 226,
   "metadata": {},
   "outputs": [
    {
     "data": {
      "text/html": "<div>\n<style scoped>\n    .dataframe tbody tr th:only-of-type {\n        vertical-align: middle;\n    }\n\n    .dataframe tbody tr th {\n        vertical-align: top;\n    }\n\n    .dataframe thead th {\n        text-align: right;\n    }\n</style>\n<table border=\"1\" class=\"dataframe\">\n  <thead>\n    <tr style=\"text-align: right;\">\n      <th></th>\n      <th>price_class</th>\n      <th>survived</th>\n      <th>sex</th>\n      <th>age</th>\n      <th>ticket</th>\n      <th>fare</th>\n      <th>embarked</th>\n      <th>homedest</th>\n      <th>name</th>\n      <th>family_size</th>\n      <th>adult</th>\n    </tr>\n    <tr>\n      <th>case_id</th>\n      <th></th>\n      <th></th>\n      <th></th>\n      <th></th>\n      <th></th>\n      <th></th>\n      <th></th>\n      <th></th>\n      <th></th>\n      <th></th>\n      <th></th>\n    </tr>\n  </thead>\n  <tbody>\n    <tr>\n      <th>1</th>\n      <td>1</td>\n      <td>0.0</td>\n      <td>male</td>\n      <td>67.0</td>\n      <td>PC 17483</td>\n      <td>221.7792</td>\n      <td>S</td>\n      <td>New York, NY</td>\n      <td>Straus, Mr. Isidor</td>\n      <td>2</td>\n      <td>1</td>\n    </tr>\n    <tr>\n      <th>2</th>\n      <td>1</td>\n      <td>0.0</td>\n      <td>male</td>\n      <td>46.0</td>\n      <td>694</td>\n      <td>26.0000</td>\n      <td>S</td>\n      <td>Bennington, VT</td>\n      <td>Jones, Mr. Charles Cresson</td>\n      <td>1</td>\n      <td>1</td>\n    </tr>\n    <tr>\n      <th>3</th>\n      <td>1</td>\n      <td>0.0</td>\n      <td>male</td>\n      <td>50.0</td>\n      <td>PC 17761</td>\n      <td>106.4250</td>\n      <td>C</td>\n      <td>Deephaven, MN / Cedar Rapids, IA</td>\n      <td>Douglas, Mr. Walter Donald</td>\n      <td>2</td>\n      <td>1</td>\n    </tr>\n    <tr>\n      <th>4</th>\n      <td>1</td>\n      <td>0.0</td>\n      <td>male</td>\n      <td>61.0</td>\n      <td>36963</td>\n      <td>32.3208</td>\n      <td>S</td>\n      <td>Haddenfield, NJ</td>\n      <td>Sutton, Mr. Frederick</td>\n      <td>1</td>\n      <td>1</td>\n    </tr>\n    <tr>\n      <th>5</th>\n      <td>1</td>\n      <td>0.0</td>\n      <td>male</td>\n      <td>32.5</td>\n      <td>113503</td>\n      <td>211.5000</td>\n      <td>C</td>\n      <td>NaN</td>\n      <td>Keeping, Mr. Edwin</td>\n      <td>1</td>\n      <td>1</td>\n    </tr>\n  </tbody>\n</table>\n</div>",
      "text/plain": "         price_class  survived   sex   age    ticket      fare embarked  \\\ncase_id                                                                   \n1                  1       0.0  male  67.0  PC 17483  221.7792        S   \n2                  1       0.0  male  46.0       694   26.0000        S   \n3                  1       0.0  male  50.0  PC 17761  106.4250        C   \n4                  1       0.0  male  61.0     36963   32.3208        S   \n5                  1       0.0  male  32.5    113503  211.5000        C   \n\n                                 homedest                        name  \\\ncase_id                                                                 \n1                            New York, NY          Straus, Mr. Isidor   \n2                          Bennington, VT  Jones, Mr. Charles Cresson   \n3        Deephaven, MN / Cedar Rapids, IA  Douglas, Mr. Walter Donald   \n4                         Haddenfield, NJ       Sutton, Mr. Frederick   \n5                                     NaN          Keeping, Mr. Edwin   \n\n         family_size  adult  \ncase_id                      \n1                  2      1  \n2                  1      1  \n3                  2      1  \n4                  1      1  \n5                  1      1  "
     },
     "execution_count": 226,
     "metadata": {},
     "output_type": "execute_result"
    }
   ],
   "source": [
    "titanic_df.head()"
   ]
  }
 ],
 "metadata": {
  "file_extension": ".py",
  "kernelspec": {
   "display_name": "Python 3.7.6 64-bit ('titanicenv': conda)",
   "language": "python",
   "name": "python37664bittitanicenvconda04979650aa8443d5960eb4415f734296"
  },
  "language_info": {
   "codemirror_mode": {
    "name": "ipython",
    "version": 3
   },
   "file_extension": ".py",
   "mimetype": "text/x-python",
   "name": "python",
   "nbconvert_exporter": "python",
   "pygments_lexer": "ipython3",
   "version": "3.8.2-final"
  },
  "mimetype": "text/x-python",
  "name": "python",
  "npconvert_exporter": "python",
  "pygments_lexer": "ipython3",
  "version": 3
 },
 "nbformat": 4,
 "nbformat_minor": 2
}